{
  "nbformat": 4,
  "nbformat_minor": 0,
  "metadata": {
    "colab": {
      "provenance": []
    },
    "kernelspec": {
      "name": "python3",
      "display_name": "Python 3"
    },
    "language_info": {
      "name": "python"
    }
  },
  "cells": [
    {
      "cell_type": "code",
      "execution_count": 3,
      "metadata": {
        "colab": {
          "base_uri": "https://localhost:8080/"
        },
        "id": "F_EJJQ4BzW9F",
        "outputId": "c8d4bca5-c077-429b-bcca-c160bdbd3966"
      },
      "outputs": [
        {
          "output_type": "stream",
          "name": "stdout",
          "text": [
            "Overwriting bfs_openmp.cpp\n"
          ]
        }
      ],
      "source": [
        "# Step 2: C++ code to be executed\n",
        "%%writefile bfs_openmp.cpp\n",
        "#include <iostream>\n",
        "#include <queue>\n",
        "#include <omp.h>\n",
        "using namespace std;\n",
        "\n",
        "const int MAX = 1000;\n",
        "int graph[MAX][MAX], visited[MAX];\n",
        "\n",
        "void bfs(int start, int n) {\n",
        "    queue<int> q;\n",
        "    visited[start] = 1;\n",
        "    q.push(start);\n",
        "\n",
        "    while (!q.empty()) {\n",
        "        int curr = q.front();\n",
        "        q.pop();\n",
        "\n",
        "        #pragma omp parallel for shared(graph, visited, q) schedule(dynamic)\n",
        "        for (int i = 0; i < n; i++) {\n",
        "            if (graph[curr][i] && !visited[i]) //If node i is connected to curr and not visited: Mark i as visited.\n",
        "            {\n",
        "                visited[i] = 1;\n",
        "                #pragma omp critical //Only one thread at a time pushes into the queue\n",
        "                q.push(i);\n",
        "            }\n",
        "        }\n",
        "    }\n",
        "}\n",
        "\n",
        "int main() {\n",
        "    int n, start;\n",
        "    cout << \"Enter number of vertices: \";\n",
        "    cin >> n;\n",
        "\n",
        "    cout << \"Enter adjacency matrix:\\n\";\n",
        "    for (int i = 0; i < n; i++) {\n",
        "        for (int j = 0; j < n; j++) {\n",
        "            cin >> graph[i][j];\n",
        "        }\n",
        "    }\n",
        "\n",
        "    cout << \"Enter starting vertex: \";\n",
        "    cin >> start;\n",
        "\n",
        "    bfs(start, n);\n",
        "\n",
        "    cout << \"BFS traversal: \";\n",
        "    for (int i = 0; i < n; i++) {\n",
        "        if (visited[i])\n",
        "            cout << i << \" \";\n",
        "    }\n",
        "    cout << endl;\n",
        "    return 0;\n",
        "}\n"
      ]
    },
    {
      "cell_type": "code",
      "source": [
        "!g++ -fopenmp bfs_openmp.cpp -o bfs_openmp"
      ],
      "metadata": {
        "id": "3g6YqlHEzjoh"
      },
      "execution_count": 4,
      "outputs": []
    },
    {
      "cell_type": "code",
      "source": [
        "!./bfs_openmp"
      ],
      "metadata": {
        "colab": {
          "base_uri": "https://localhost:8080/"
        },
        "id": "z95n4ntMzyPj",
        "outputId": "ccb1e98b-0eef-4fe8-bb9c-c5255faba121"
      },
      "execution_count": 5,
      "outputs": [
        {
          "output_type": "stream",
          "name": "stdout",
          "text": [
            "Enter number of vertices: 5\n",
            "Enter adjacency matrix:\n",
            "0 1 1 0 0\n",
            "1 0 0 1 1\n",
            "1 0 0 0 1\n",
            "0 1 0 0 1\n",
            "0 1 1 1 0\n",
            "Enter starting vertex: 0\n",
            "BFS traversal: 0 1 2 3 4 \n"
          ]
        }
      ]
    },
    {
      "cell_type": "code",
      "source": [
        "%%writefile dfs_openmp.cpp\n",
        "#include <iostream>\n",
        "#include <stack>\n",
        "#include <vector>\n",
        "#include <omp.h>\n",
        "\n",
        "using namespace std;\n",
        "\n",
        "const int MAX = 1000;\n",
        "int graph[MAX][MAX], visited[MAX];\n",
        "\n",
        "void parallel_dfs(int start, int n) {\n",
        "    stack<int> s;\n",
        "    s.push(start);\n",
        "\n",
        "    #pragma omp parallel\n",
        "    {\n",
        "        while (!s.empty()) {\n",
        "            int curr;\n",
        "\n",
        "            #pragma omp critical\n",
        "            {\n",
        "                if (!s.empty()) {\n",
        "                    curr = s.top();\n",
        "                    s.pop();\n",
        "                } else {\n",
        "                    curr = -1;\n",
        "                }\n",
        "            }\n",
        "\n",
        "            if (curr != -1 && !visited[curr]) {\n",
        "                visited[curr] = 1;\n",
        "\n",
        "                #pragma omp parallel for\n",
        "                for (int i = 0; i < n; i++) {\n",
        "                    if (graph[curr][i] && !visited[i]) {\n",
        "                        #pragma omp critical\n",
        "                        {\n",
        "                            if (!visited[i]) {\n",
        "                                s.push(i);\n",
        "                            }\n",
        "                        }\n",
        "                    }\n",
        "                }\n",
        "            }\n",
        "        }\n",
        "    }\n",
        "}\n",
        "\n",
        "int main() {\n",
        "    int n, start;\n",
        "    cout << \"Enter number of vertices: \";\n",
        "    cin >> n;\n",
        "\n",
        "    cout << \"Enter adjacency matrix:\\n\";\n",
        "    for (int i = 0; i < n; i++)\n",
        "        for (int j = 0; j < n; j++)\n",
        "            cin >> graph[i][j];\n",
        "\n",
        "    cout << \"Enter starting vertex: \";\n",
        "    cin >> start;\n",
        "\n",
        "    parallel_dfs(start, n);\n",
        "\n",
        "    cout << \"DFS traversal: \";\n",
        "    for (int i = 0; i < n; i++)\n",
        "        if (visited[i])\n",
        "            cout << i << \" \";\n",
        "    cout << endl;\n",
        "\n",
        "    return 0;\n",
        "}\n"
      ],
      "metadata": {
        "colab": {
          "base_uri": "https://localhost:8080/"
        },
        "id": "e6fugP3uz0jH",
        "outputId": "b88eb7b4-5801-4945-f657-1932dfbba7c1"
      },
      "execution_count": 10,
      "outputs": [
        {
          "output_type": "stream",
          "name": "stdout",
          "text": [
            "Writing dfs_openmp.cpp\n"
          ]
        }
      ]
    },
    {
      "cell_type": "code",
      "source": [
        "!g++ -fopenmp dfs_openmp.cpp -o dfs_openmp"
      ],
      "metadata": {
        "id": "w_4BIiAH0WKd"
      },
      "execution_count": 11,
      "outputs": []
    },
    {
      "cell_type": "code",
      "source": [
        "!./dfs_openmp"
      ],
      "metadata": {
        "id": "lY1k67TA1Fgb"
      },
      "execution_count": null,
      "outputs": []
    }
  ]
}