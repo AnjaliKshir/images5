{
  "nbformat": 4,
  "nbformat_minor": 0,
  "metadata": {
    "colab": {
      "provenance": []
    },
    "kernelspec": {
      "name": "python3",
      "display_name": "Python 3"
    },
    "language_info": {
      "name": "python"
    }
  },
  "cells": [
    {
      "cell_type": "code",
      "source": [
        "# Install the C++ compiler\n",
        "!apt-get install g++ -y"
      ],
      "metadata": {
        "colab": {
          "base_uri": "https://localhost:8080/"
        },
        "id": "ei-yeQSAwVZl",
        "outputId": "7b1d944f-ffca-4c1c-fc5a-930a43e2d8a4"
      },
      "execution_count": 7,
      "outputs": [
        {
          "output_type": "stream",
          "name": "stdout",
          "text": [
            "Reading package lists... Done\n",
            "Building dependency tree... Done\n",
            "Reading state information... Done\n",
            "g++ is already the newest version (4:11.2.0-1ubuntu1).\n",
            "g++ set to manually installed.\n",
            "0 upgraded, 0 newly installed, 0 to remove and 34 not upgraded.\n"
          ]
        }
      ]
    },
    {
      "cell_type": "code",
      "execution_count": 8,
      "metadata": {
        "colab": {
          "base_uri": "https://localhost:8080/"
        },
        "id": "FfGul5AftafA",
        "outputId": "a40530bd-6a00-4131-e3c8-65f1a6de2d39"
      },
      "outputs": [
        {
          "output_type": "stream",
          "name": "stdout",
          "text": [
            "Writing bubbleSort.cpp\n"
          ]
        }
      ],
      "source": [
        "%%writefile bubbleSort.cpp\n",
        "#include <iostream>\n",
        "#include <omp.h>\n",
        "using namespace std;\n",
        "\n",
        "void bubbleSort(int arr[], int n) {\n",
        "    for (int i = 0; i < n - 1; i++) {\n",
        "        bool swapped = false;\n",
        "        #pragma omp parallel for shared(arr, swapped)\n",
        "        for (int j = 0; j < n - i - 1; j++) {\n",
        "            if (arr[j] > arr[j + 1]) {\n",
        "                swap(arr[j], arr[j + 1]);\n",
        "                swapped = true;\n",
        "            }\n",
        "        }\n",
        "        if (!swapped) break; // If no swaps, array is sorted\n",
        "    }\n",
        "}\n",
        "\n",
        "int main() {\n",
        "    int n;\n",
        "    cout << \"Enter number of elements: \";\n",
        "    cin >> n;\n",
        "    int arr[n];\n",
        "\n",
        "    cout << \"Enter elements: \";\n",
        "    for (int i = 0; i < n; i++)\n",
        "        cin >> arr[i];\n",
        "\n",
        "    bubbleSort(arr, n);\n",
        "\n",
        "    cout << \"Sorted array: \";\n",
        "    for (int i = 0; i < n; i++)\n",
        "        cout << arr[i] << \" \";\n",
        "    cout << endl;\n",
        "\n",
        "    return 0;\n",
        "}\n"
      ]
    },
    {
      "cell_type": "code",
      "source": [
        "!g++ -fopenmp bubbleSort.cpp -o bubbleSort"
      ],
      "metadata": {
        "id": "ALVs4JVttfOA"
      },
      "execution_count": 9,
      "outputs": []
    },
    {
      "cell_type": "code",
      "source": [
        "!./bubbleSort"
      ],
      "metadata": {
        "colab": {
          "base_uri": "https://localhost:8080/"
        },
        "id": "nBrUWzFUtm91",
        "outputId": "7cac70e9-aff3-4b72-9fdd-1c127fe7ee94"
      },
      "execution_count": 10,
      "outputs": [
        {
          "output_type": "stream",
          "name": "stdout",
          "text": [
            "Enter number of elements: 6\n",
            "Enter elements: 1 6 2 0 5 3\n",
            "Sorted array: 0 1 2 3 5 6 \n"
          ]
        }
      ]
    },
    {
      "cell_type": "code",
      "source": [
        "# Write C++ code to a file\n",
        "%%writefile mergeSort.cpp\n",
        "#include <iostream>\n",
        "#include <omp.h>\n",
        "using namespace std;\n",
        "\n",
        "void merge(int arr[], int left, int mid, int right) {\n",
        "    int n1 = mid - left + 1; // number of elements in the left subarray\n",
        "    int n2 = right - mid; //number of elements in the right subarray.\n",
        "\n",
        "    int L[n1], R[n2]; //two temporary arrays to store the left and right subarrays respectively.\n",
        "\n",
        "    for (int i = 0; i < n1; i++)\n",
        "        L[i] = arr[left + i];\n",
        "    for (int i = 0; i < n2; i++)\n",
        "        R[i] = arr[mid + 1 + i];\n",
        "\n",
        "    int i = 0, j = 0, k = left;\n",
        "    while (i < n1 && j < n2) {\n",
        "        if (L[i] <= R[j]) {\n",
        "            arr[k] = L[i];\n",
        "            i++;\n",
        "        } else {\n",
        "            arr[k] = R[j];\n",
        "            j++;\n",
        "        }\n",
        "        k++;\n",
        "    }\n",
        "\n",
        "    while (i < n1) {\n",
        "        arr[k] = L[i];\n",
        "        i++;\n",
        "        k++;\n",
        "    }\n",
        "\n",
        "    while (j < n2) {\n",
        "        arr[k] = R[j];\n",
        "        j++;\n",
        "        k++;\n",
        "    }\n",
        "}\n",
        "\n",
        "void mergeSort(int arr[], int left, int right) {\n",
        "    if (left < right) {\n",
        "        int mid = left + (right - left) / 2;\n",
        "\n",
        "        #pragma omp parallel sections\n",
        "        {\n",
        "            #pragma omp section\n",
        "            mergeSort(arr, left, mid);\n",
        "\n",
        "            #pragma omp section\n",
        "            mergeSort(arr, mid + 1, right);\n",
        "        }\n",
        "\n",
        "        merge(arr, left, mid, right);\n",
        "    }\n",
        "}\n",
        "\n",
        "int main() {\n",
        "    int n;\n",
        "    cout << \"Enter number of elements: \";\n",
        "    cin >> n;\n",
        "    int arr[n];\n",
        "\n",
        "    cout << \"Enter elements: \";\n",
        "    for (int i = 0; i < n; i++)\n",
        "        cin >> arr[i];\n",
        "\n",
        "    mergeSort(arr, 0, n - 1);\n",
        "\n",
        "    cout << \"Sorted array: \";\n",
        "    for (int i = 0; i < n; i++)\n",
        "        cout << arr[i] << \" \";\n",
        "    cout << endl;\n",
        "\n",
        "    return 0;\n",
        "}\n",
        "\n"
      ],
      "metadata": {
        "colab": {
          "base_uri": "https://localhost:8080/"
        },
        "id": "GgirQyOzusRu",
        "outputId": "691a0067-166a-4ab9-f0c0-874ba4304758"
      },
      "execution_count": 14,
      "outputs": [
        {
          "output_type": "stream",
          "name": "stdout",
          "text": [
            "Overwriting mergeSort.cpp\n"
          ]
        }
      ]
    },
    {
      "cell_type": "code",
      "source": [
        "# Compile the C++ code using g++\n",
        "!g++ -fopenmp mergeSort.cpp -o mergeSort"
      ],
      "metadata": {
        "id": "JuzkYVUJxmsq"
      },
      "execution_count": 12,
      "outputs": []
    },
    {
      "cell_type": "code",
      "source": [
        "# Run the compiled C++ code\n",
        "!./mergeSort"
      ],
      "metadata": {
        "colab": {
          "base_uri": "https://localhost:8080/"
        },
        "id": "FrdDZSuaxrLU",
        "outputId": "7ee77f65-54a9-4124-82fb-1a02fe37fe81"
      },
      "execution_count": 13,
      "outputs": [
        {
          "output_type": "stream",
          "name": "stdout",
          "text": [
            "Enter number of elements: 5\n",
            "Enter elements: 6 4 3 10 1\n",
            "Sorted array: 1 3 4 6 10 \n"
          ]
        }
      ]
    },
    {
      "cell_type": "code",
      "source": [],
      "metadata": {
        "id": "kMH3eihixvTr"
      },
      "execution_count": null,
      "outputs": []
    }
  ]
}