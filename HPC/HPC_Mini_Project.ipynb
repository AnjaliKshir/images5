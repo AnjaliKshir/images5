{
  "cells": [
    {
      "cell_type": "code",
      "source": [
        "\n",
        "# STEP 1: Install MPI\n",
        "# !apt-get install -y libopenmpi-dev openmpi-bin\n",
        "\n",
        "%%writefile parallel_quicksort.cpp\n",
        "#include <iostream>\n",
        "#include <algorithm>\n",
        "#include <cstdlib>\n",
        "#include <ctime>\n",
        "#include <mpi.h>\n",
        "using namespace std;\n",
        "// Partition function for quicksort\n",
        "int partition(int arr[], int low, int high) {\n",
        "    int pivot = arr[high];\n",
        "    int i = (low - 1);\n",
        "    for (int j = low; j <= high - 1; j++) {\n",
        "        if (arr[j] <= pivot) {\n",
        "            i++;\n",
        "            swap(arr[i], arr[j]);\n",
        "        }\n",
        "    }\n",
        "    swap(arr[i + 1], arr[high]);\n",
        "    return (i + 1);\n",
        "}\n",
        "\n",
        "// Recursive quicksort\n",
        "void quicksort(int arr[], int low, int high) {\n",
        "    if (low < high) {\n",
        "        int pivot = partition(arr, low, high);\n",
        "        quicksort(arr, low, pivot - 1);\n",
        "        quicksort(arr, pivot + 1, high);\n",
        "    }\n",
        "}\n",
        "int main(int argc, char* argv[]) {\n",
        "    int rank, size;\n",
        "    MPI_Init(&argc, &argv);\n",
        "    MPI_Comm_rank(MPI_COMM_WORLD, &rank);\n",
        "    MPI_Comm_size(MPI_COMM_WORLD, &size);\n",
        "    int n = 100;\n",
        "    int* arr = new int[n];\n",
        "    int* recvbuf = new int[n];\n",
        "    int sub_arr_size = n / size;\n",
        "    int* sub_arr = new int[sub_arr_size];\n",
        "    if (rank == 0) {\n",
        "        srand(time(0));\n",
        "        for (int i = 0; i < n; i++) {\n",
        "            arr[i] = rand() % 100;\n",
        "        }\n",
        "    }\n",
        "    MPI_Scatter(arr, sub_arr_size, MPI_INT, sub_arr, sub_arr_size, MPI_INT, 0, MPI_COMM_WORLD);\n",
        "    double start_time = MPI_Wtime();\n",
        "    quicksort(sub_arr, 0, sub_arr_size - 1);\n",
        "    MPI_Gather(sub_arr, sub_arr_size, MPI_INT, recvbuf, sub_arr_size, MPI_INT, 0, MPI_COMM_WORLD);\n",
        "    double end_time = MPI_Wtime();\n",
        "    double parallel_execution_time = end_time - start_time;\n",
        "    double sequential_execution_time = 0.0;\n",
        "    if (rank == 0) {\n",
        "        double seq_start = MPI_Wtime();\n",
        "        quicksort(arr, 0, n - 1);\n",
        "        double seq_end = MPI_Wtime();\n",
        "        sequential_execution_time = seq_end - seq_start;\n",
        "        cout << \"Sorted Array (Parallel + Merged): \";\n",
        "        for (int i = 0; i < n; i++) {\n",
        "            cout << recvbuf[i] << \" \";\n",
        "        }\n",
        "        cout << endl;\n",
        "        double speedup = sequential_execution_time / parallel_execution_time;\n",
        "        double efficiency = speedup / size;\n",
        "        cout << \"Sequential execution time: \" << sequential_execution_time << endl;\n",
        "        cout << \"Parallel execution time: \" << parallel_execution_time << endl;\n",
        "        cout << \"Speedup: \" << speedup << endl;\n",
        "        cout << \"Efficiency: \" << efficiency << endl;\n",
        "    }\n",
        "    delete[] arr;\n",
        "    delete[] recvbuf;\n",
        "    delete[] sub_arr;\n",
        "    MPI_Finalize();\n",
        "    return 0;\n",
        "}\n",
        "\n",
        "// // STEP 3: Compile the code with mpic++\n",
        "// !mpic++ -o parallel_quicksort parallel_quicksort.cpp\n",
        "// // STEP 4: Run the executable with mpirun\n",
        "// !mpirun --allow-run-as-root --oversubscribe -np 4 ./parallel_quicksort"
      ],
      "metadata": {
        "id": "ol85QBUkpwFo",
        "colab": {
          "base_uri": "https://localhost:8080/"
        },
        "outputId": "04ac3a23-2ebc-4df7-fe1d-0254e0f15c62"
      },
      "execution_count": 6,
      "outputs": [
        {
          "output_type": "stream",
          "name": "stdout",
          "text": [
            "Overwriting parallel_quicksort.cpp\n"
          ]
        }
      ]
    },
    {
      "cell_type": "markdown",
      "source": [],
      "metadata": {
        "id": "IwZud5kl0ua4"
      }
    },
    {
      "cell_type": "code",
      "source": [
        "!apt-get install -y libopenmpi-dev openmpi-bin\n",
        "!mpic++ -o parallel_quicksort parallel_quicksort.cpp"
      ],
      "metadata": {
        "colab": {
          "base_uri": "https://localhost:8080/"
        },
        "id": "sUy3Ed1oPkOe",
        "outputId": "b3fe1c67-f324-4fbe-a397-1a507ed87450"
      },
      "execution_count": 7,
      "outputs": [
        {
          "output_type": "stream",
          "name": "stdout",
          "text": [
            "Reading package lists... Done\n",
            "Building dependency tree... Done\n",
            "Reading state information... Done\n",
            "libopenmpi-dev is already the newest version (4.1.2-2ubuntu1).\n",
            "openmpi-bin is already the newest version (4.1.2-2ubuntu1).\n",
            "openmpi-bin set to manually installed.\n",
            "0 upgraded, 0 newly installed, 0 to remove and 34 not upgraded.\n"
          ]
        }
      ]
    },
    {
      "cell_type": "code",
      "source": [
        "!mpirun --allow-run-as-root --oversubscribe -np 4 ./parallel_quicksort"
      ],
      "metadata": {
        "colab": {
          "base_uri": "https://localhost:8080/"
        },
        "id": "rC-FvFLyP6p6",
        "outputId": "58507f8a-7375-4143-d985-fa7d97047456"
      },
      "execution_count": 8,
      "outputs": [
        {
          "output_type": "stream",
          "name": "stdout",
          "text": [
            "Sorted Array (Parallel + Merged): 18 20 22 26 32 39 43 56 56 60 62 69 74 74 78 80 82 85 87 90 90 93 94 96 98 0 4 6 9 12 14 17 18 20 27 41 42 44 46 49 55 56 59 60 63 69 76 94 97 99 0 3 4 14 14 14 18 22 24 25 32 33 45 51 51 54 56 64 65 69 73 76 80 81 83 2 5 13 13 20 24 28 29 35 37 39 46 56 59 63 64 65 66 67 71 71 86 87 94 95 \n",
            "Sequential execution time: 1.4803e-05\n",
            "Parallel execution time: 0.000214983\n",
            "Speedup: 0.0688566\n",
            "Efficiency: 0.0172142\n"
          ]
        }
      ]
    },
    {
      "cell_type": "markdown",
      "source": [],
      "metadata": {
        "id": "rnb8UlPH0uXZ"
      }
    }
  ],
  "metadata": {
    "colab": {
      "provenance": []
    },
    "kernelspec": {
      "display_name": "Python 3",
      "name": "python3"
    }
  },
  "nbformat": 4,
  "nbformat_minor": 0
}